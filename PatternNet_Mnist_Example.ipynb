{
 "cells": [
  {
   "cell_type": "markdown",
   "metadata": {},
   "source": [
    "# PatternNet example on MNIST\n",
    "This notebook trains a classification network on the MNIST data set and subsequently creates a PatternNet for this network and shows how to use PatternNet for signal computation."
   ]
  },
  {
   "cell_type": "markdown",
   "metadata": {},
   "source": [
    "## Imports"
   ]
  },
  {
   "cell_type": "code",
   "execution_count": 1,
   "metadata": {},
   "outputs": [
    {
     "data": {
      "text/html": [
       "<style>.container { width:95% !important; }</style>"
      ],
      "text/plain": [
       "<IPython.core.display.HTML object>"
      ]
     },
     "metadata": {},
     "output_type": "display_data"
    }
   ],
   "source": [
    "import numpy as np\n",
    "import matplotlib.pyplot as plt\n",
    "import torch\n",
    "import torch.nn as nn\n",
    "import torch.optim as optim\n",
    "\n",
    "import networks\n",
    "from utils import load_data_mnist as load_data\n",
    "from utils import accuracy, train\n",
    "\n",
    "\n",
    "from IPython.core.display import display, HTML\n",
    "display(HTML(\"<style>.container { width:95% !important; }</style>\"))"
   ]
  },
  {
   "cell_type": "markdown",
   "metadata": {},
   "source": [
    "## Data and MNIST network "
   ]
  },
  {
   "cell_type": "code",
   "execution_count": 2,
   "metadata": {},
   "outputs": [],
   "source": [
    "# get the data\n",
    "trainloader, testloader, _ = load_data(128)\n",
    "\n",
    "# initialize the MNIST network\n",
    "net = networks.MnistNet()"
   ]
  },
  {
   "cell_type": "code",
   "execution_count": 3,
   "metadata": {},
   "outputs": [
    {
     "name": "stdout",
     "output_type": "stream",
     "text": [
      "Finished Training in 265 seconds\n",
      "Accuracy: 0.989600\n"
     ]
    },
    {
     "data": {
      "text/plain": [
       "0.9896"
      ]
     },
     "execution_count": 3,
     "metadata": {},
     "output_type": "execute_result"
    }
   ],
   "source": [
    "# set the number of epochs used for training\n",
    "train_epochs = 10\n",
    "\n",
    "# define the loss function and optimizer\n",
    "criterion = nn.CrossEntropyLoss()\n",
    "optimizer = optim.Adam(net.parameters(), lr=0.001)\n",
    "# train the network\n",
    "train(net, train_epochs, trainloader, criterion, optimizer)\n",
    "\n",
    "# get the accuracy\n",
    "accuracy(net, testloader)"
   ]
  },
  {
   "cell_type": "code",
   "execution_count": 4,
   "metadata": {},
   "outputs": [],
   "source": [
    "# get test images, always use the same for easier comparisons\n",
    "data = np.load(\"test_images.npy\")\n",
    "\n",
    "# reshape for pytorch usage\n",
    "data = torch.FloatTensor(data.transpose(0,3,1,2))"
   ]
  },
  {
   "cell_type": "markdown",
   "metadata": {},
   "source": [
    "## Create Patternnet"
   ]
  },
  {
   "cell_type": "code",
   "execution_count": 5,
   "metadata": {
    "scrolled": false
   },
   "outputs": [],
   "source": [
    "# initialize patternnet with the MNIST networks' layers\n",
    "patternnet = networks.PatternNet(net.layers)"
   ]
  },
  {
   "cell_type": "code",
   "execution_count": 6,
   "metadata": {},
   "outputs": [],
   "source": [
    "# compute statistics \n",
    "patternnet.compute_statistics(data)\n",
    "# compute patterns\n",
    "patternnet.compute_patterns()\n",
    "# set patterns\n",
    "patternnet.set_patterns()"
   ]
  },
  {
   "cell_type": "markdown",
   "metadata": {},
   "source": [
    "## Signal examples"
   ]
  },
  {
   "cell_type": "code",
   "execution_count": 7,
   "metadata": {},
   "outputs": [],
   "source": [
    "# function to normalize images such that the maximum value is 1 and the minimum 0\n",
    "def normalize_img(img):\n",
    "    img_n = img - img.min()\n",
    "    img_n = img_n / img_n.max()\n",
    "    \n",
    "    return img_n"
   ]
  },
  {
   "cell_type": "code",
   "execution_count": 8,
   "metadata": {},
   "outputs": [
    {
     "data": {
      "image/png": "[encoded data removed]",
      "text/plain": [
       "<Figure size 504x864 with 20 Axes>"
      ]
     },
     "metadata": {},
     "output_type": "display_data"
    }
   ],
   "source": [
    "# compute signals\n",
    "signals = patternnet(data[:10])\n",
    "\n",
    "# plot signals\n",
    "plt.figure(figsize=(7,12))\n",
    "for i in range(10):\n",
    "    plt.subplot(10,6,i*6+2)\n",
    "    if i == 0:\n",
    "        plt.title('Signal')\n",
    "    plt.imshow(normalize_img(signals.data[i,0]), cmap='gray')\n",
    "    plt.xticks([])\n",
    "    plt.yticks([])\n",
    "    plt.subplot(10,6,i*6+1)\n",
    "    if i == 0:\n",
    "        plt.title('Input')\n",
    "    plt.imshow(normalize_img(data[i,0]), cmap='gray')\n",
    "    plt.xticks([])\n",
    "    plt.yticks([])\n",
    "    \n",
    "plt.show()"
   ]
  }
 ],
 "metadata": {
  "kernelspec": {
   "display_name": "Python 3",
   "language": "python",
   "name": "python3"
  },
  "language_info": {
   "codemirror_mode": {
    "name": "ipython",
    "version": 3
   },
   "file_extension": ".py",
   "mimetype": "text/x-python",
   "name": "python",
   "nbconvert_exporter": "python",
   "pygments_lexer": "ipython3",
   "version": "3.5.6"
  }
 },
 "nbformat": 4,
 "nbformat_minor": 2
}
