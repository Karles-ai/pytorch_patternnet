{
 "cells": [
  {
   "cell_type": "markdown",
   "metadata": {},
   "source": [
    "# PatternNet example on MNIST\n",
    "This notebook trains a classification network on the MNIST data set and subsequently creates a PatternNet for this network and shows how to use PatternNet for signal computation."
   ]
  },
  {
   "cell_type": "markdown",
   "metadata": {},
   "source": [
    "## Imports"
   ]
  },
  {
   "cell_type": "code",
   "execution_count": 1,
   "metadata": {},
   "outputs": [
    {
     "data": {
      "text/html": [
       "<style>.container { width:95% !important; }</style>"
      ],
      "text/plain": [
       "<IPython.core.display.HTML object>"
      ]
     },
     "metadata": {},
     "output_type": "display_data"
    }
   ],
   "source": [
    "import numpy as np\n",
    "import matplotlib.pyplot as plt\n",
    "import torch\n",
    "import torch.nn as nn\n",
    "import torch.optim as optim\n",
    "\n",
    "import networks\n",
    "import layers\n",
    "from utils import load_data_mnist as load_data\n",
    "from utils import accuracy, train\n",
    "\n",
    "\n",
    "from IPython.core.display import display, HTML\n",
    "display(HTML(\"<style>.container { width:95% !important; }</style>\"))"
   ]
  },
  {
   "cell_type": "markdown",
   "metadata": {},
   "source": [
    "# Data and MNIST network "
   ]
  },
  {
   "cell_type": "code",
   "execution_count": 2,
   "metadata": {},
   "outputs": [],
   "source": [
    "# get the data\n",
    "trainloader, testloader, _ = load_data(128)\n",
    "\n",
    "# initialize the MNIST network\n",
    "net = networks.MnistNet()"
   ]
  },
  {
   "cell_type": "code",
   "execution_count": 3,
   "metadata": {},
   "outputs": [
    {
     "data": {
      "text/plain": [
       "[Conv2d(1, 16, kernel_size=(5, 5), stride=(1, 1)),\n",
       " ReLU(),\n",
       " MaxPool2d(kernel_size=2, stride=2, padding=0, dilation=1, ceil_mode=False),\n",
       " Conv2d(16, 64, kernel_size=(5, 5), stride=(1, 1)),\n",
       " ReLU(),\n",
       " MaxPool2d(kernel_size=2, stride=2, padding=0, dilation=1, ceil_mode=False),\n",
       " Linear(in_features=1024, out_features=120, bias=True),\n",
       " ReLU(),\n",
       " Linear(in_features=120, out_features=84, bias=True),\n",
       " ReLU(),\n",
       " Linear(in_features=84, out_features=10, bias=True)]"
      ]
     },
     "execution_count": 3,
     "metadata": {},
     "output_type": "execute_result"
    }
   ],
   "source": [
    "# print the layers for an overview of the network architecture\n",
    "net.layers"
   ]
  },
  {
   "cell_type": "code",
   "execution_count": 4,
   "metadata": {},
   "outputs": [
    {
     "name": "stdout",
     "output_type": "stream",
     "text": [
      "Finished Training in 66 seconds\n",
      "Accuracy: 0.988000\n"
     ]
    },
    {
     "data": {
      "text/plain": [
       "0.988"
      ]
     },
     "execution_count": 4,
     "metadata": {},
     "output_type": "execute_result"
    }
   ],
   "source": [
    "# set the number of epochs used for training\n",
    "train_epochs = 2\n",
    "\n",
    "# define the loss function and optimizer\n",
    "criterion = nn.CrossEntropyLoss()\n",
    "optimizer = optim.Adam(net.parameters(), lr=0.001)\n",
    "# train the network\n",
    "train(net, train_epochs, trainloader, criterion, optimizer)\n",
    "\n",
    "# get the accuracy\n",
    "accuracy(net, testloader)"
   ]
  },
  {
   "cell_type": "code",
   "execution_count": 5,
   "metadata": {},
   "outputs": [],
   "source": [
    "# get test images, always use the same for easier comparisons\n",
    "data = np.load(\"test_images.npy\")\n",
    "\n",
    "# reshape for pytorch usage\n",
    "data = torch.FloatTensor(data.transpose(0,3,1,2))"
   ]
  },
  {
   "cell_type": "markdown",
   "metadata": {},
   "source": [
    "# Create Patternnet\n",
    "To create your own PatternNet there are two possibilities to proceed. You can use the *PatternNet* class to create a PatternNet on a given network or you can stack single PatternLayers. \n",
    "\n"
   ]
  },
  {
   "cell_type": "markdown",
   "metadata": {},
   "source": [
    "## PatternNet class\n",
    "The PatternNet is initialized with a list of a network's layers in the order that they are called during a forward pass. For easy initialization here, the MNIST network has an attribute *layers* that returns this list. "
   ]
  },
  {
   "cell_type": "code",
   "execution_count": 6,
   "metadata": {
    "scrolled": false
   },
   "outputs": [],
   "source": [
    "# initialize patternnet with the MNIST networks' layers\n",
    "patternnet = networks.PatternNet(net.layers)"
   ]
  },
  {
   "cell_type": "markdown",
   "metadata": {},
   "source": [
    "After initialization the patterns that are used for the signal computations are just randomly initialized weights. To change this you have to execute three steps. \n",
    "\n",
    "First compute statistics of the inputs and outputs of the dense and convolutional layers. For this the *PatternNet* class provides the method *compute_statistics(data)*. The patternnet automatically computes the inputs and outputs of each dense or conovolutional layer in the forward pass and computes the statistics. The statistics are saved additionally to any patterns since the statistics can be updated with new data in a linear way. \n",
    "\n",
    "Second the patterns have to be computed from the already computed statistics. For this a simple call of the *compute_patterns()* method is sufficient. \n",
    "\n",
    "And third the patterns need to be set as weights for the signal computation. Two types of patterns are saved in for each layer after the *compute_patterns()* call, *linear* and *relu* patterns. By calling the patternnet method *set_patterns()* the *relu* patterns (which correspond to the two-component estimator of the PatternNet paper) are set. If you want to set the *linear* patterns, call the method with *pattern_type='linear'*."
   ]
  },
  {
   "cell_type": "code",
   "execution_count": 7,
   "metadata": {},
   "outputs": [],
   "source": [
    "# compute statistics \n",
    "patternnet.compute_statistics(data)\n",
    "# compute patterns\n",
    "patternnet.compute_patterns()\n",
    "# set patterns\n",
    "patternnet.set_patterns()"
   ]
  },
  {
   "cell_type": "markdown",
   "metadata": {},
   "source": [
    "### Signal examples"
   ]
  },
  {
   "cell_type": "code",
   "execution_count": 8,
   "metadata": {},
   "outputs": [],
   "source": [
    "# function to normalize images such that the maximum value is 1 and the minimum 0\n",
    "def normalize_img(img):\n",
    "    img_n = img - img.min()\n",
    "    img_n = img_n / img_n.max()\n",
    "    \n",
    "    return img_n"
   ]
  },
  {
   "cell_type": "markdown",
   "metadata": {},
   "source": [
    "When the patterns have been computed and set the signal of some input can be computed by calling the patternnet on the input data. Note that this would also work before having computed any patterns, but then the random weights from the initialization would be used. "
   ]
  },
  {
   "cell_type": "code",
   "execution_count": 9,
   "metadata": {},
   "outputs": [
    {
     "data": {
      "image/png": "[encoded data removed]",
      "text/plain": [
       "<Figure size 504x864 with 20 Axes>"
      ]
     },
     "metadata": {},
     "output_type": "display_data"
    }
   ],
   "source": [
    "# compute signals\n",
    "signals = patternnet(data[:10])\n",
    "\n",
    "# plot signals\n",
    "plt.figure(figsize=(7,12))\n",
    "for i in range(10):\n",
    "    plt.subplot(10,6,i*6+2)\n",
    "    if i == 0:\n",
    "        plt.title('Signal')\n",
    "    plt.imshow(normalize_img(signals.data[i,0]), cmap='gray')\n",
    "    plt.xticks([])\n",
    "    plt.yticks([])\n",
    "    plt.subplot(10,6,i*6+1)\n",
    "    if i == 0:\n",
    "        plt.title('Input')\n",
    "    plt.imshow(normalize_img(data[i,0]), cmap='gray')\n",
    "    plt.xticks([])\n",
    "    plt.yticks([])\n",
    "    \n",
    "plt.show()"
   ]
  },
  {
   "cell_type": "markdown",
   "metadata": {},
   "source": [
    "## PatternLayers\n",
    "The *PatternNet* class can only be used on certain networks (only sequential network of Conv2d, Linear, MaxPooling2d, ReLU layers and only one change between convolutional and dense layers). For all other networks (or if you simply want to have more control) you can still create a PatternNet by using the PatternLayers and stacking them. An example for one of these layers and its usage is given here. For more information on the other PatternLayers have a look at the tutorial in this link: https://docs.google.com/document/d/1g3x_aqMbcYw56OPjb3qs6GzEjdsEHxsuRXILKpsfCYE/edit?usp=sharing"
   ]
  },
  {
   "cell_type": "markdown",
   "metadata": {},
   "source": [
    "### PatternConv2d\n",
    "The *PatternConv2d* layer can be initialized on a Conv2d layer and implements the following methods:\n",
    "- forward(data): computes the output of the Conv2d layer on the input data *data*; If the Conv2d layer has a bias term the forward function also returns the output without the bias term because it is needed for the statistics computation\n",
    "- compute_statistics(input, output_with_bias, output_without_bias): computes the statistics for the Conv2d layer; output_without_bias can also be omitted if the layer does not have a bias term\n",
    "- compute_patterns(): computes the patterns on previously computed statistics\n",
    "- set_patterns(): sets the weights for the backward pass to the computed patterns; Similar to the set_patterns() method of the *PatternNet* class the patterns can be set to *relu* or *linear* patterns (call with *pattern_type='relu'* or *pattern_type='linear'*, if called with none *'relu'* patterns are used)\n",
    "- backward(output_data): computes the backward pass with the set patterns; "
   ]
  },
  {
   "cell_type": "code",
   "execution_count": 10,
   "metadata": {},
   "outputs": [
    {
     "name": "stdout",
     "output_type": "stream",
     "text": [
      "PatternConv2d(\n",
      "  (forward_layer): Conv2d(1, 16, kernel_size=(5, 5), stride=(1, 1))\n",
      "  (backward_layer): Conv2d(16, 1, kernel_size=[5 5], stride=(1, 1), padding=(4, 4), bias=False)\n",
      ")\n"
     ]
    }
   ],
   "source": [
    "# create example PatternConv2d layer\n",
    "conv_pattern = layers.PatternConv2d(net.layers[0])\n",
    "# print the layer \n",
    "print(conv_pattern)\n",
    "\n",
    "# before we can compute the statistics we need the output of the layer \n",
    "# from a forward pass (with and without bias applied)\n",
    "conv_output_w_bias, conv_output_wo_bias = conv_pattern.forward(data)\n",
    "# now we can compute the statistics\n",
    "conv_pattern.compute_statistics(data, conv_output_w_bias, conv_output_wo_bias)\n",
    "# compute the patterns\n",
    "conv_pattern.compute_patterns()\n",
    "# and set the patterns\n",
    "conv_pattern.set_patterns()\n",
    "\n",
    "# now we can also compute a backward pass with the computed patterns\n",
    "conv_signal = conv_pattern.backward(conv_output_w_bias)"
   ]
  }
 ],
 "metadata": {
  "kernelspec": {
   "display_name": "Python 3",
   "language": "python",
   "name": "python3"
  },
  "language_info": {
   "codemirror_mode": {
    "name": "ipython",
    "version": 3
   },
   "file_extension": ".py",
   "mimetype": "text/x-python",
   "name": "python",
   "nbconvert_exporter": "python",
   "pygments_lexer": "ipython3",
   "version": "3.5.6"
  }
 },
 "nbformat": 4,
 "nbformat_minor": 2
}
