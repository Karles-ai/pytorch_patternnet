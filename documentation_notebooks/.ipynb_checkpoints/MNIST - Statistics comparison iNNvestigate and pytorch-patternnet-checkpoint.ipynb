{
 "cells": [
  {
   "cell_type": "markdown",
   "metadata": {},
   "source": [
    "This notebook uses the network from the iNNvestigate Mnist example and compares the statistics, patterns and signals computed by the iNNvestigate and pytorch patternnet implementations. For the comparison to be more accurate the innvestigate layer inputs and outputs are used for the statistics computation of both frameworks."
   ]
  },
  {
   "cell_type": "code",
   "execution_count": 1,
   "metadata": {},
   "outputs": [
    {
     "name": "stderr",
     "output_type": "stream",
     "text": [
      "Using TensorFlow backend.\n"
     ]
    },
    {
     "data": {
      "text/html": [
       "<style>.container { width:95% !important; }</style>"
      ],
      "text/plain": [
       "<IPython.core.display.HTML object>"
      ]
     },
     "metadata": {},
     "output_type": "display_data"
    }
   ],
   "source": [
    "import numpy as np\n",
    "import innvestigate\n",
    "import keras\n",
    "import torch\n",
    "import torch.nn as nn\n",
    "import pandas as pd\n",
    "import itertools\n",
    "\n",
    "import sys\n",
    "sys.path.append('../')\n",
    "import networks\n",
    "import patterns\n",
    "\n",
    "from IPython.core.display import display, HTML\n",
    "display(HTML(\"<style>.container { width:95% !important; }</style>\"))"
   ]
  },
  {
   "cell_type": "markdown",
   "metadata": {},
   "source": [
    "# Get data"
   ]
  },
  {
   "cell_type": "code",
   "execution_count": 2,
   "metadata": {},
   "outputs": [
    {
     "name": "stdout",
     "output_type": "stream",
     "text": [
      "(10, 28, 28, 1)\n"
     ]
    }
   ],
   "source": [
    "data_all = np.load(\n",
    "    \"/home/rabea/Documents/AgBall/patternnet/patterns/testing/mnist_images_for_patterns.npy\")\n",
    "data = data_all[:10]\n",
    "print(data.shape)\n",
    "\n",
    "# reshape for pytorch usage\n",
    "data_py = torch.FloatTensor(data.transpose(0,3,1,2))"
   ]
  },
  {
   "cell_type": "markdown",
   "metadata": {},
   "source": [
    "# Create iNNvestigate network"
   ]
  },
  {
   "cell_type": "code",
   "execution_count": 3,
   "metadata": {
    "collapsed": true
   },
   "outputs": [],
   "source": [
    "PATTERN_TYPE = 'relu'"
   ]
  },
  {
   "cell_type": "code",
   "execution_count": 4,
   "metadata": {
    "collapsed": true
   },
   "outputs": [],
   "source": [
    "input_shape = (28, 28, 1)\n",
    "\n",
    "model = keras.models.Sequential([\n",
    "    keras.layers.Conv2D(32, (3, 3), activation=\"relu\", input_shape=input_shape),\n",
    "    keras.layers.Conv2D(64, (3, 3), activation=\"relu\"),\n",
    "    keras.layers.MaxPooling2D((2, 2)),\n",
    "    keras.layers.Flatten(),\n",
    "    keras.layers.Dense(512, activation=\"relu\"),\n",
    "    keras.layers.Dense(10, activation=\"softmax\"),\n",
    "])\n",
    "\n",
    "model.compile(loss=\"categorical_crossentropy\",\n",
    "                  optimizer='sgd',\n",
    "                  metrics=[\"accuracy\"])"
   ]
  },
  {
   "cell_type": "code",
   "execution_count": 5,
   "metadata": {
    "scrolled": true
   },
   "outputs": [
    {
     "name": "stdout",
     "output_type": "stream",
     "text": [
      "_________________________________________________________________\n",
      "Layer (type)                 Output Shape              Param #   \n",
      "=================================================================\n",
      "conv2d_1 (Conv2D)            (None, 26, 26, 32)        320       \n",
      "_________________________________________________________________\n",
      "conv2d_2 (Conv2D)            (None, 24, 24, 64)        18496     \n",
      "_________________________________________________________________\n",
      "max_pooling2d_1 (MaxPooling2 (None, 12, 12, 64)        0         \n",
      "_________________________________________________________________\n",
      "flatten_1 (Flatten)          (None, 9216)              0         \n",
      "_________________________________________________________________\n",
      "dense_1 (Dense)              (None, 512)               4719104   \n",
      "_________________________________________________________________\n",
      "dense_2 (Dense)              (None, 10)                5130      \n",
      "=================================================================\n",
      "Total params: 4,743,050\n",
      "Trainable params: 4,743,050\n",
      "Non-trainable params: 0\n",
      "_________________________________________________________________\n"
     ]
    }
   ],
   "source": [
    "model.summary()"
   ]
  },
  {
   "cell_type": "code",
   "execution_count": 6,
   "metadata": {
    "collapsed": true
   },
   "outputs": [],
   "source": [
    "# set weights to pretrained weights\n",
    "weights_loaded = np.load(\n",
    "    \"/home/rabea/Documents/AgBall/patternnet/patterns/testing/innvestigate_mnistnet_weights.npy\")\n",
    "model.set_weights(weights_loaded)"
   ]
  },
  {
   "cell_type": "code",
   "execution_count": 7,
   "metadata": {
    "collapsed": true
   },
   "outputs": [],
   "source": [
    "model_wo_softmax = innvestigate.utils.keras.graph.model_wo_softmax(model)"
   ]
  },
  {
   "cell_type": "code",
   "execution_count": 8,
   "metadata": {
    "scrolled": false
   },
   "outputs": [
    {
     "name": "stdout",
     "output_type": "stream",
     "text": [
      "Epoch 1/1\n",
      "1/1 [==============================] - 0s 365ms/step - loss: 4.0000 - broadcast_1_loss: 1.0000 - broadcast_2_loss: 1.0000 - broadcast_3_loss: 1.0000 - broadcast_4_loss: 1.0000\n"
     ]
    }
   ],
   "source": [
    "analyzer = innvestigate.create_analyzer(\"pattern.net\", \n",
    "                                        model_wo_softmax,\n",
    "                                        pattern_type=PATTERN_TYPE)\n",
    "\n",
    "analyzer.fit(data, batch_size=10, verbose=1)"
   ]
  },
  {
   "cell_type": "markdown",
   "metadata": {},
   "source": [
    "## Get innvestigate patterns"
   ]
  },
  {
   "cell_type": "code",
   "execution_count": 9,
   "metadata": {
    "collapsed": true
   },
   "outputs": [],
   "source": [
    "# get patterns\n",
    "patterns_innvestigate = analyzer._patterns\n",
    "# for pattern in patterns_innvestigate:\n",
    "#     print(pattern.shape)"
   ]
  },
  {
   "cell_type": "markdown",
   "metadata": {},
   "source": [
    "## Get innvestigate statistics"
   ]
  },
  {
   "cell_type": "code",
   "execution_count": 10,
   "metadata": {
    "collapsed": true
   },
   "outputs": [],
   "source": [
    "# get the list of ReluPattern Instances, 4 instances for the 4 layers\n",
    "pattern_instances = analyzer.computer._pattern_instances[PATTERN_TYPE]\n",
    "\n",
    "# get the statistics per layer\n",
    "stats_innvestigate = []\n",
    "for instance in pattern_instances:\n",
    "    stats = instance.stats_dict\n",
    "#     for key in stats:\n",
    "#         print(stats[key].shape)\n",
    "#     print()\n",
    "    stats_innvestigate.append(stats)"
   ]
  },
  {
   "cell_type": "markdown",
   "metadata": {},
   "source": [
    "## Get statistics layer"
   ]
  },
  {
   "cell_type": "code",
   "execution_count": 11,
   "metadata": {
    "collapsed": true,
    "scrolled": true
   },
   "outputs": [],
   "source": [
    "# get the statistics network to be able to access the input and output\n",
    "# to the statistics computations\n",
    "statistics_network = analyzer.computer._computers[0]\n",
    "# statistics_network.summary()"
   ]
  },
  {
   "cell_type": "markdown",
   "metadata": {},
   "source": [
    "## Get innvestigate layer inputs and outputs"
   ]
  },
  {
   "cell_type": "code",
   "execution_count": 12,
   "metadata": {
    "collapsed": true
   },
   "outputs": [],
   "source": [
    "# get innvestigate outputs\n",
    "model_outputs = [layer.output for layer in model_wo_softmax.layers]\n",
    "inp = model_wo_softmax.input\n",
    "layer_models = [keras.models.Model(inp,out) for out in model_outputs]\n",
    "# first model just input model, can be deleted from list\n",
    "layer_models.pop(0)\n",
    "# third model model that ends after maxpooling, can be deleted from list\n",
    "layer_models.pop(2)\n",
    "# now third model ends with flatten layer\n",
    "layer_models.pop(2)\n",
    "\n",
    "# now change activation of final layer to get outputs without relu\n",
    "# after having changed activations need to save and load model to apply changes to the graph\n",
    "mod_count = 1\n",
    "linear_models = []\n",
    "for mod in layer_models:\n",
    "    layers_in_model = mod.layers\n",
    "    # set all layers activations to relu and then change the last layers activation to linear\n",
    "    # if only changing last layer activation to linear, then this layer will also have a linear\n",
    "    # activation in the next bigger model\n",
    "    for layer in mod.layers:\n",
    "        if layer.__class__ == keras.layers.convolutional.Conv2D or \\\n",
    "                    layer.__class__ == keras.layers.core.Dense:\n",
    "            layer.activation = keras.activations.relu\n",
    "    mod.layers[-1].activation = keras.activations.linear\n",
    "    \n",
    "    mod.compile(optimizer=\"sgd\", loss=\"categorical_crossentropy\")\n",
    "    mod.save(\"./_model_%i\" %mod_count)\n",
    "    lin_mod = keras.models.load_model(\"./_model_%i\" %mod_count)\n",
    "    mod_count += 1\n",
    "    linear_models.append(lin_mod)"
   ]
  },
  {
   "cell_type": "code",
   "execution_count": 13,
   "metadata": {
    "collapsed": true
   },
   "outputs": [],
   "source": [
    "# get the actual output predictions for the created models\n",
    "layer_outputs_innvestigate_wo_relu = []\n",
    "for ind, mod in enumerate(layer_models):\n",
    "    out_wo_relu = linear_models[ind].predict_on_batch(data)\n",
    "    layer_outputs_innvestigate_wo_relu.append(torch.FloatTensor(out_wo_relu))"
   ]
  },
  {
   "cell_type": "code",
   "execution_count": 14,
   "metadata": {
    "collapsed": true
   },
   "outputs": [],
   "source": [
    "# get output and input of layers used for statistics computation\n",
    "# for outputs without bias use Ys, for inputs use Xs, output with bias is saved in \n",
    "# layer_outputs_innvestigate_wo_relu\n",
    "\n",
    "statistics_layers_all = statistics_network.layers\n",
    "# list with the indices for the Xs and Ys layers\n",
    "input_model_inds = [17, 20, 4, 5]\n",
    "output_model_inds = [19, 22, 24, 26]\n",
    "\n",
    "input_model_outputs = [statistics_layers_all[ind].output for ind in input_model_inds]\n",
    "output_model_outputs = [statistics_layers_all[ind].output for ind in output_model_inds]\n",
    "\n",
    "inp = statistics_network.input\n",
    "input_models = []\n",
    "output_models = []\n",
    "for i in range(4):\n",
    "    input_models.append(keras.models.Model(inp, input_model_outputs[i]))\n",
    "    output_models.append(keras.models.Model(inp, output_model_outputs[i]))"
   ]
  },
  {
   "cell_type": "code",
   "execution_count": 15,
   "metadata": {
    "collapsed": true
   },
   "outputs": [],
   "source": [
    "inputs_innvestigate = []\n",
    "outputs_innvestigate_wo_bias = []\n",
    "\n",
    "for i in range(4):\n",
    "    layer_inp = input_models[i].predict_on_batch(data)\n",
    "    layer_out_wo_bias = output_models[i].predict_on_batch(data)\n",
    "    \n",
    "    inputs_innvestigate.append(torch.FloatTensor(layer_inp))\n",
    "    outputs_innvestigate_wo_bias.append(torch.FloatTensor(layer_out_wo_bias))"
   ]
  },
  {
   "cell_type": "code",
   "execution_count": 16,
   "metadata": {
    "collapsed": true
   },
   "outputs": [],
   "source": [
    "# for i in range(4):\n",
    "#     print(\"Input shape:\", inputs_innvestigate[i].shape)\n",
    "#     print(\"Output shapes:\", outputs_innvestigate_wo_bias[i].shape, \n",
    "#           layer_outputs_innvestigate_wo_relu[i].shape)\n",
    "#     print()"
   ]
  },
  {
   "cell_type": "code",
   "execution_count": 17,
   "metadata": {
    "collapsed": true
   },
   "outputs": [],
   "source": [
    "# since the input and output for the conv layers in inputs_innvestigate and \n",
    "# outputs_innvestigate_wo_bias are already reshaped to the dense maps\n",
    "# the outputs with bias also have to be reshaped to the dense maps\n",
    "# for this first construct dummy inputs\n",
    "dummy_conv_inputs = [torch.FloatTensor(np.zeros((10,1,28,28))), \n",
    "                     torch.FloatTensor(np.zeros((10,32,26,26)))]\n",
    "# kernel size the same for both conv layers\n",
    "ks = [3,3]\n",
    "# now get outputs as reshaped pytorch tensors\n",
    "conv_outputs_wo_relu = [layer_outputs_innvestigate_wo_relu[0].permute(0,3,1,2),\n",
    "                        layer_outputs_innvestigate_wo_relu[1].permute(0,3,1,2)]\n",
    "# dense map for first conv layer\n",
    "_, out_dense1 = patterns._conv_maps_to_dense(dummy_conv_inputs[0], \n",
    "                                                       conv_outputs_wo_relu[0], \n",
    "                                                       ks)\n",
    "# dense map for second conv layer\n",
    "_, out_dense2 = patterns._conv_maps_to_dense(dummy_conv_inputs[1], \n",
    "                                                       conv_outputs_wo_relu[1],\n",
    "                                                       ks)\n",
    "\n",
    "# now substitute the conv outputs with its dense maps\n",
    "layer_outputs_innvestigate_wo_relu[0] = out_dense1\n",
    "layer_outputs_innvestigate_wo_relu[1] = out_dense2"
   ]
  },
  {
   "cell_type": "markdown",
   "metadata": {},
   "source": [
    "# Create pytorch Patternnet"
   ]
  },
  {
   "cell_type": "code",
   "execution_count": 18,
   "metadata": {
    "collapsed": true
   },
   "outputs": [],
   "source": [
    "# reshape weights_loaded\n",
    "weights_py = []\n",
    "for i in range(8):\n",
    "    weight = weights_loaded[i]\n",
    "    if len(weight.shape) == 2:\n",
    "        weight = weights_loaded[i].transpose(1,0)\n",
    "    elif len(weight.shape) == 4:\n",
    "        weight = weights_loaded[i].transpose(3,2,0,1)\n",
    "    weight = torch.FloatTensor(weight)\n",
    "    weights_py.append(weight)\n",
    "#     print(weight.shape)"
   ]
  },
  {
   "cell_type": "code",
   "execution_count": 19,
   "metadata": {
    "collapsed": true
   },
   "outputs": [],
   "source": [
    "# pytorch Mnist network class\n",
    "class MnistNet(nn.Module):\n",
    "    \n",
    "    def __init__(self):\n",
    "        super(MnistNet, self).__init__()\n",
    "        \n",
    "        input_height = 28\n",
    "        input_width = 28\n",
    "        num_channels = 1\n",
    "        self.map_height = int(((input_height - 2) - 2) / 2)\n",
    "        self.map_width = int(((input_width - 2) - 2) / 2)\n",
    "        \n",
    "        self.conv1 = nn.Conv2d(num_channels, 32, 3)\n",
    "        self.conv2 = nn.Conv2d(32, 64, 3)\n",
    "        self.pool = nn.MaxPool2d(2)\n",
    "        self.fc1 = nn.Linear(64 * self.map_width * self.map_height, 512)\n",
    "        self.fc2 = nn.Linear(512, 10)\n",
    "        self.relu = nn.ReLU()\n",
    "        \n",
    "        self.layers = [self.conv1, self.relu, self.conv2, self.relu, self.pool,\n",
    "                       self.fc1, self.relu, self.fc2]\n",
    "        \n",
    "    def forward(self, x):\n",
    "        \n",
    "        # first conv layer\n",
    "        x = self.relu(self.conv1(x))\n",
    "        # second conv layer\n",
    "        x = self.relu(self.conv2(x))\n",
    "        # pooling\n",
    "        x = self.pool(x)\n",
    "        if self.pool.return_indices:\n",
    "            x = x[0]\n",
    "        x = x.view(-1, 64 * self.map_width * self.map_height)\n",
    "        # first dense layer\n",
    "        x = self.relu(self.fc1(x))\n",
    "        # second dense layer\n",
    "        x = self.fc2(x)\n",
    "        \n",
    "        return x"
   ]
  },
  {
   "cell_type": "code",
   "execution_count": 20,
   "metadata": {
    "collapsed": true
   },
   "outputs": [],
   "source": [
    "\n",
    "# initialize class\n",
    "model_pytorch = MnistNet()\n",
    "\n",
    "# set weights\n",
    "weight_ind = 0\n",
    "for layer in model_pytorch.layers:\n",
    "    layerclass = layer.__class__.__name__\n",
    "    if layerclass in ['Conv2d', 'Linear']:\n",
    "        layer.weight.data = weights_py[weight_ind]\n",
    "        layer.bias.data = weights_py[weight_ind+1]\n",
    "        weight_ind += 2\n",
    "\n",
    "patternnet_pytorch = networks.PatternNet(model_pytorch.layers)"
   ]
  },
  {
   "cell_type": "code",
   "execution_count": 21,
   "metadata": {
    "collapsed": true,
    "scrolled": true
   },
   "outputs": [],
   "source": [
    "# perform statistics computations in here with innvestigates layer outputs\n",
    "# compute statistics based on innvestigate output \n",
    "ind = 0\n",
    "for layer in patternnet_pytorch.backward_layers[::-1]:\n",
    "    layerclass = layer.__class__.__name__\n",
    "    if layerclass in ['PatternConv2d', 'PatternLinear']:\n",
    "        stat = patterns.compute_statistics(inputs_innvestigate[ind],\n",
    "                                       outputs_innvestigate_wo_bias[ind],\n",
    "                                       layer_outputs_innvestigate_wo_relu[ind])\n",
    "        \n",
    "        layer.statistics = stat\n",
    "        ind += 1"
   ]
  },
  {
   "cell_type": "code",
   "execution_count": 22,
   "metadata": {
    "collapsed": true
   },
   "outputs": [],
   "source": [
    "# compute patterns\n",
    "patternnet_pytorch.compute_patterns()\n",
    "# set patterns\n",
    "patternnet_pytorch.set_patterns()"
   ]
  },
  {
   "cell_type": "code",
   "execution_count": 23,
   "metadata": {
    "collapsed": true
   },
   "outputs": [],
   "source": [
    "def revert_tensor(tensor, axis=0):\n",
    "    idx = [i for i in range(tensor.size(axis)-1,-1,-1)]\n",
    "    idx = torch.LongTensor(idx)\n",
    "    return tensor.index_select(axis,idx)"
   ]
  },
  {
   "cell_type": "code",
   "execution_count": 24,
   "metadata": {
    "collapsed": true
   },
   "outputs": [],
   "source": [
    "# get patterns\n",
    "patterns_pytorch_linear, patterns_pytorch_aplus = [], []\n",
    "patterns_conv_original_linear, patterns_conv_original_aplus = [], []\n",
    "# save patterns in the two pattern lists and reshape them to have the same\n",
    "# pattern values at the same place as in the innvestigate patterns\n",
    "for layer in patternnet_pytorch.backward_layers[::-1]:\n",
    "    layerclass = layer.__class__.__name__\n",
    "    if layerclass in ['PatternConv2d', 'PatternLinear']:\n",
    "        pattern_dict = layer.patterns\n",
    "        pattern_linear = pattern_dict['A_linear']\n",
    "        pattern_aplus = pattern_dict['A_plus']\n",
    "\n",
    "        # dense pattern\n",
    "        if pattern_linear.dim() == 2:\n",
    "            # transpose to get same shape as innvestigate patterns\n",
    "            pattern_linear = pattern_linear.permute(1, 0)\n",
    "            pattern_aplus = pattern_aplus.permute(1, 0)\n",
    "        # or convolutional pattern\n",
    "        elif pattern_linear.dim() == 4:\n",
    "            patterns_conv_original_linear.append(pattern_linear.numpy())\n",
    "            patterns_conv_original_aplus.append(pattern_aplus.numpy())\n",
    "            pattern_linear = pattern_linear.permute(2, 3, 0, 1)\n",
    "            pattern_linear = revert_tensor(revert_tensor(pattern_linear, 1), 0)\n",
    "            pattern_aplus = pattern_aplus.permute(2, 3, 0, 1)\n",
    "            pattern_aplus = revert_tensor(revert_tensor(pattern_aplus, 1), 0)\n",
    "\n",
    "        patterns_pytorch_linear.append(pattern_linear.numpy())\n",
    "        patterns_pytorch_aplus.append(pattern_aplus.numpy())"
   ]
  },
  {
   "cell_type": "code",
   "execution_count": 25,
   "metadata": {
    "collapsed": true
   },
   "outputs": [],
   "source": [
    "def transpose_tensors_from_dict(dict):\n",
    "    ''' transposes 0-th and 1-st dimension of all tensosr in the dictionary.\n",
    "        After that converts them to numpy arrays.\n",
    "    '''\n",
    "    for key in dict:\n",
    "        if key == \"cnt\":\n",
    "            continue\n",
    "        dict[key] = dict[key].permute(1,0).numpy()\n",
    "    return dict"
   ]
  },
  {
   "cell_type": "code",
   "execution_count": 26,
   "metadata": {
    "collapsed": true
   },
   "outputs": [],
   "source": [
    "# get statistics\n",
    "stats_pytorch_linear, stats_pytorch_aplus = [], []\n",
    "\n",
    "# save statistics into two seperate lists for the linear and a-plus-minus pattern \n",
    "# and reshape them to be comparable to the innvestigate statistics\n",
    "for layer in patternnet_pytorch.backward_layers:\n",
    "    layerclass = layer.__class__.__name__\n",
    "    if layerclass in ['PatternConv2d', 'PatternLinear']:\n",
    "        \n",
    "        stats_dict = layer.statistics\n",
    "        stats_dict_linear = transpose_tensors_from_dict(stats_dict['linear'])\n",
    "        stats_pytorch_linear.append(stats_dict_linear)\n",
    "        stats_dict_aplus = transpose_tensors_from_dict(stats_dict['positive'])\n",
    "        stats_pytorch_aplus.append(stats_dict_aplus)"
   ]
  },
  {
   "cell_type": "markdown",
   "metadata": {},
   "source": [
    "# Create table for comparisons"
   ]
  },
  {
   "cell_type": "code",
   "execution_count": 27,
   "metadata": {
    "collapsed": true
   },
   "outputs": [],
   "source": [
    "row_names = [['Ex', 'Ey', 'Exy','Patterns'],['MAE', 'MSE', 'MaxDiff']]\n",
    "rows = pd.MultiIndex.from_product(row_names)\n",
    "col_names = [[PATTERN_TYPE],['Conv1', 'Conv2', 'Dense1', 'Dense2']]\n",
    "columns = pd.MultiIndex.from_product(col_names)\n",
    "\n",
    "df = pd.DataFrame(np.ones((12,4)), index=rows, columns=columns)"
   ]
  },
  {
   "cell_type": "markdown",
   "metadata": {},
   "source": [
    "# Compare statistics"
   ]
  },
  {
   "cell_type": "code",
   "execution_count": 28,
   "metadata": {
    "collapsed": true
   },
   "outputs": [],
   "source": [
    "def mean_absolute_error(array1, array2):\n",
    "    return np.mean(np.abs(array1 - array2))\n",
    "\n",
    "def mean_squared_error(array1, array2):\n",
    "    return np.mean((array1 - array2)**2)\n",
    "\n",
    "def maximum_error(array1, array2):\n",
    "    return np.max(np.abs(array1 - array2))\n",
    "\n",
    "def all_close(array1, array2, tol=1e-5):\n",
    "    return np.allclose(array1, array2, rtol=tol)\n",
    "\n",
    "def mae_mse_ma(array1, array2):\n",
    "    mae = mean_absolute_error(array1, array2)\n",
    "    mse = mean_squared_error(array1, array2)\n",
    "    md = maximum_error(array1, array2)\n",
    "     \n",
    "    print('Mean absolute error:', mae)\n",
    "    print('Mean squared error:', mse)\n",
    "    print('Maximum absolute difference:', md)\n",
    "    \n",
    "    return mae, mse, md\n",
    "\n",
    "def relative_errors(array1, array2, rel_to_max=True):\n",
    "    max_arr1 = np.max(np.abs(array1))\n",
    "    max_arr2 = np.max(np.abs(array2))\n",
    "    print('Maximum of arrays:', max_arr1, max_arr2)\n",
    "    mae_rel = mean_absolute_error(array1, array2) / max(max_arr1, max_arr2) \n",
    "    md_rel = maximum_error(array1, array2) / max(max_arr1, max_arr2)\n",
    "    \n",
    "    print('Mean absolute error relative to maximum value:', mae_rel)\n",
    "    print('Maximum difference relative to maximum value:', md_rel)"
   ]
  },
  {
   "cell_type": "code",
   "execution_count": 29,
   "metadata": {},
   "outputs": [
    {
     "name": "stdout",
     "output_type": "stream",
     "text": [
      "Statistics of layer Conv1:\n",
      "Mean over x:\n",
      "Mean absolute error: 0.0\n",
      "Mean squared error: 0.0\n",
      "Maximum absolute difference: 0.0\n",
      "\n",
      "Mean over y:\n",
      "Mean absolute error: 0.0\n",
      "Mean squared error: 0.0\n",
      "Maximum absolute difference: 0.0\n",
      "\n",
      "Mean over x*y:\n",
      "Mean absolute error: 0.0\n",
      "Mean squared error: 0.0\n",
      "Maximum absolute difference: 0.0\n",
      "\n",
      "Statistics of layer Conv2:\n",
      "Mean over x:\n",
      "Mean absolute error: 0.0\n",
      "Mean squared error: 0.0\n",
      "Maximum absolute difference: 0.0\n",
      "\n",
      "Mean over y:\n",
      "Mean absolute error: 0.0\n",
      "Mean squared error: 0.0\n",
      "Maximum absolute difference: 0.0\n",
      "\n",
      "Mean over x*y:\n",
      "Mean absolute error: 0.0\n",
      "Mean squared error: 0.0\n",
      "Maximum absolute difference: 0.0\n",
      "\n",
      "Statistics of layer Dense1:\n",
      "Mean over x:\n",
      "Mean absolute error: 1.58346e-08\n",
      "Mean squared error: 1.47631e-15\n",
      "Maximum absolute difference: 7.45058e-07\n",
      "\n",
      "Mean over y:\n",
      "Mean absolute error: 0.0\n",
      "Mean squared error: 0.0\n",
      "Maximum absolute difference: 0.0\n",
      "\n",
      "Mean over x*y:\n",
      "Mean absolute error: 4.40836e-09\n",
      "Mean squared error: 1.2102e-16\n",
      "Maximum absolute difference: 1.93715e-07\n",
      "\n",
      "Statistics of layer Dense2:\n",
      "Mean over x:\n",
      "Mean absolute error: 4.26906e-07\n",
      "Mean squared error: 5.44088e-13\n",
      "Maximum absolute difference: 2.563e-06\n",
      "\n",
      "Mean over y:\n",
      "Mean absolute error: 0.0\n",
      "Mean squared error: 0.0\n",
      "Maximum absolute difference: 0.0\n",
      "\n",
      "Mean over x*y:\n",
      "Mean absolute error: 6.02454e-07\n",
      "Mean squared error: 3.14317e-12\n",
      "Maximum absolute difference: 8.46386e-06\n",
      "\n"
     ]
    }
   ],
   "source": [
    "# note: order is always different\n",
    "order_innvestigate = []\n",
    "for i in range(4):\n",
    "    for j in range(4):\n",
    "        if stats_innvestigate[j]['e_x'].shape == stats_pytorch_aplus[i]['e_x'].shape:\n",
    "            order_innvestigate.append(j)\n",
    "\n",
    "keys = ['Conv1', 'Conv2', 'Dense1', 'Dense2']\n",
    "if PATTERN_TYPE == 'relu':\n",
    "    stats_pytorch = stats_pytorch_aplus\n",
    "else:\n",
    "    stats_pytorch = stats_pytorch_linear\n",
    "\n",
    "for i in range(4):\n",
    "    print('Statistics of layer %s:' %keys[i])\n",
    "    print('Mean over x:')\n",
    "    stats_inn_ex = stats_innvestigate[order_innvestigate[i]]['e_x']\n",
    "    stats_py_ex = stats_pytorch[i]['e_x']\n",
    "    mae, mse, md = mae_mse_ma(stats_inn_ex, stats_py_ex)\n",
    "    df[PATTERN_TYPE,keys[i]].loc['Ex','MAE'] = mae\n",
    "    df[PATTERN_TYPE,keys[i]].loc['Ex','MSE'] = mse\n",
    "    df[PATTERN_TYPE,keys[i]].loc['Ex','MaxDiff'] = md\n",
    "    print()\n",
    "    \n",
    "    print('Mean over y:')\n",
    "    stats_inn_ey = stats_innvestigate[order_innvestigate[i]]['e_y']\n",
    "    stats_py_ey = stats_pytorch[i]['e_y']\n",
    "    if len(stats_py_ey.shape) == 2 and len(stats_inn_ey.shape) == 1:\n",
    "        stats_py_ey = stats_py_ey[:,0]\n",
    "    mae, mse, md = mae_mse_ma(stats_inn_ey, stats_py_ey)\n",
    "    df[PATTERN_TYPE,keys[i]].loc['Ey','MAE'] = mae\n",
    "    df[PATTERN_TYPE,keys[i]].loc['Ey','MSE'] = mse\n",
    "    df[PATTERN_TYPE,keys[i]].loc['Ey','MaxDiff'] = md\n",
    "    print()\n",
    "    print('Mean over x*y:')\n",
    "    stats_inn_exy = stats_innvestigate[order_innvestigate[i]]['e_xy']\n",
    "    stats_py_exy = stats_pytorch[i]['e_xy']\n",
    "    mae, mse, md = mae_mse_ma(stats_inn_exy, stats_py_exy)\n",
    "    df[PATTERN_TYPE,keys[i]].loc['Exy','MAE'] = mae\n",
    "    df[PATTERN_TYPE,keys[i]].loc['Exy','MSE'] = mse\n",
    "    df[PATTERN_TYPE,keys[i]].loc['Exy','MaxDiff'] = md\n",
    "    print()"
   ]
  },
  {
   "cell_type": "code",
   "execution_count": 30,
   "metadata": {
    "scrolled": false
   },
   "outputs": [
    {
     "name": "stdout",
     "output_type": "stream",
     "text": [
      "Statistics of layer Conv1:\n",
      "Mean over x:\n",
      "Maximum of arrays: 10.6749 10.6749\n",
      "Mean absolute error relative to maximum value: 0.0\n",
      "Maximum difference relative to maximum value: 0.0\n",
      "Relative difference smaller 1e-5: True\n",
      "\n",
      "Mean over y:\n",
      "Maximum of arrays: 9.23868 9.23868\n",
      "Mean absolute error relative to maximum value: 0.0\n",
      "Maximum difference relative to maximum value: 0.0\n",
      "Relative difference smaller 1e-5: True\n",
      "\n",
      "Mean over x*y:\n",
      "Maximum of arrays: 293.097 293.097\n",
      "Mean absolute error relative to maximum value: 0.0\n",
      "Maximum difference relative to maximum value: 0.0\n",
      "Relative difference smaller 1e-5: True\n",
      "\n",
      "Statistics of layer Conv2:\n",
      "Mean over x:\n",
      "Maximum of arrays: 3.00052 3.00052\n",
      "Mean absolute error relative to maximum value: 0.0\n",
      "Maximum difference relative to maximum value: 0.0\n",
      "Relative difference smaller 1e-5: True\n",
      "\n",
      "Mean over y:\n",
      "Maximum of arrays: 8.33097 8.33097\n",
      "Mean absolute error relative to maximum value: 0.0\n",
      "Maximum difference relative to maximum value: 0.0\n",
      "Relative difference smaller 1e-5: True\n",
      "\n",
      "Mean over x*y:\n",
      "Maximum of arrays: 16.7651 16.7651\n",
      "Mean absolute error relative to maximum value: 0.0\n",
      "Maximum difference relative to maximum value: 0.0\n",
      "Relative difference smaller 1e-5: True\n",
      "\n",
      "Statistics of layer Dense1:\n",
      "Mean over x:\n",
      "Maximum of arrays: 0.879756 0.879756\n",
      "Mean absolute error relative to maximum value: 1.79989e-08\n",
      "Maximum difference relative to maximum value: 8.46892e-07\n",
      "Relative difference smaller 1e-5: True\n",
      "\n",
      "Mean over y:\n",
      "Maximum of arrays: 0.637706 0.637706\n",
      "Mean absolute error relative to maximum value: 0.0\n",
      "Maximum difference relative to maximum value: 0.0\n",
      "Relative difference smaller 1e-5: True\n",
      "\n",
      "Mean over x*y:\n",
      "Maximum of arrays: 0.441068 0.441067\n",
      "Mean absolute error relative to maximum value: 9.99475e-09\n",
      "Maximum difference relative to maximum value: 4.39196e-07\n",
      "Relative difference smaller 1e-5: True\n",
      "\n",
      "Statistics of layer Dense2:\n",
      "Mean over x:\n",
      "Maximum of arrays: 0.97059 0.970589\n",
      "Mean absolute error relative to maximum value: 4.39842e-07\n",
      "Maximum difference relative to maximum value: 2.64066e-06\n",
      "Relative difference smaller 1e-5: True\n",
      "\n",
      "Mean over y:\n",
      "Maximum of arrays: 0.325319 0.325319\n",
      "Mean absolute error relative to maximum value: 0.0\n",
      "Maximum difference relative to maximum value: 0.0\n",
      "Relative difference smaller 1e-5: True\n",
      "\n",
      "Mean over x*y:\n",
      "Maximum of arrays: 0.307411 0.307411\n",
      "Mean absolute error relative to maximum value: 1.95976e-06\n",
      "Maximum difference relative to maximum value: 2.75327e-05\n",
      "Relative difference smaller 1e-5: False\n",
      "\n"
     ]
    }
   ],
   "source": [
    "# note: order is always different\n",
    "order_innvestigate = []\n",
    "for i in range(4):\n",
    "    for j in range(4):\n",
    "        if stats_innvestigate[j]['e_x'].shape == stats_pytorch_aplus[i]['e_x'].shape:\n",
    "            order_innvestigate.append(j)\n",
    "\n",
    "keys = ['Conv1', 'Conv2', 'Dense1', 'Dense2']\n",
    "if PATTERN_TYPE == 'relu':\n",
    "    stats_pytorch = stats_pytorch_aplus\n",
    "else:\n",
    "    stats_pytorch = stats_pytorch_linear\n",
    "\n",
    "for i in range(4):\n",
    "    print('Statistics of layer %s:' %keys[i])\n",
    "    print('Mean over x:')\n",
    "    stats_inn_ex = stats_innvestigate[order_innvestigate[i]]['e_x']\n",
    "    stats_py_ex = stats_pytorch[i]['e_x']\n",
    "    relative_errors(stats_inn_ex, stats_py_ex)\n",
    "    print('Relative difference smaller 1e-5:', all_close(stats_inn_ex, stats_py_ex))\n",
    "\n",
    "    print()\n",
    "    \n",
    "    print('Mean over y:')\n",
    "    stats_inn_ey = stats_innvestigate[order_innvestigate[i]]['e_y']\n",
    "    stats_py_ey = stats_pytorch[i]['e_y']\n",
    "    if len(stats_py_ey.shape) == 2 and len(stats_inn_ey.shape) == 1:\n",
    "        stats_py_ey = stats_py_ey[:,0]\n",
    "    relative_errors(stats_inn_ey, stats_py_ey)\n",
    "    print('Relative difference smaller 1e-5:', all_close(stats_inn_ey, stats_py_ey))\n",
    "\n",
    "    print()\n",
    "    print('Mean over x*y:')\n",
    "    stats_inn_exy = stats_innvestigate[order_innvestigate[i]]['e_xy']\n",
    "    stats_py_exy = stats_pytorch[i]['e_xy']\n",
    "    relative_errors(stats_inn_exy, stats_py_exy)\n",
    "    print('Relative difference smaller 1e-5:', all_close(stats_inn_exy, stats_py_exy))\n",
    "    print()"
   ]
  },
  {
   "cell_type": "markdown",
   "metadata": {},
   "source": [
    "# Compare patterns"
   ]
  },
  {
   "cell_type": "code",
   "execution_count": 31,
   "metadata": {},
   "outputs": [
    {
     "name": "stdout",
     "output_type": "stream",
     "text": [
      "Layer: Conv1, Patterns of shape: (3, 3, 1, 32)\n",
      "Mean absolute error: 2.19463e-05\n",
      "Mean squared error: 7.95975e-09\n",
      "Maximum absolute difference: 0.000641346\n",
      "\n",
      "Layer: Conv2, Patterns of shape: (3, 3, 32, 64)\n",
      "Mean absolute error: 6.38233e-08\n",
      "Mean squared error: 2.00037e-14\n",
      "Maximum absolute difference: 2.86102e-06\n",
      "\n",
      "Layer: Dense1, Patterns of shape: (9216, 512)\n",
      "Mean absolute error: 2.4696e-09\n",
      "Mean squared error: 5.07939e-15\n",
      "Maximum absolute difference: 2.86102e-05\n",
      "\n",
      "Layer: Dense2, Patterns of shape: (512, 10)\n",
      "Mean absolute error: 1.02329e-07\n",
      "Mean squared error: 2.89046e-13\n",
      "Maximum absolute difference: 7.15256e-06\n",
      "\n"
     ]
    }
   ],
   "source": [
    "layer_names = ['Conv1', 'Conv2', 'Dense1', 'Dense2']\n",
    "\n",
    "if PATTERN_TYPE == 'relu':\n",
    "    patterns_pytorch = patterns_pytorch_aplus\n",
    "else:\n",
    "    patterns_pytorch = patterns_pytorch_linear\n",
    "    \n",
    "for i in range(4):\n",
    "    print('Layer: %s, Patterns of shape:' %layer_names[i], patterns_innvestigate[i].shape)\n",
    "    pattern_inn = patterns_innvestigate[i]\n",
    "    pattern_py = patterns_pytorch[i]\n",
    "    mae, mse, md = mae_mse_ma(pattern_inn, pattern_py)\n",
    "    df[PATTERN_TYPE,keys[i]].loc['Patterns','MAE'] = mae\n",
    "    df[PATTERN_TYPE,keys[i]].loc['Patterns','MSE'] = mse\n",
    "    df[PATTERN_TYPE,keys[i]].loc['Patterns','MaxDiff'] = md\n",
    "    print()"
   ]
  },
  {
   "cell_type": "code",
   "execution_count": 32,
   "metadata": {},
   "outputs": [
    {
     "name": "stdout",
     "output_type": "stream",
     "text": [
      "Layer: Conv1, Patterns of shape: (3, 3, 1, 32)\n",
      "Maximum of arrays: 5.85551 5.85517\n",
      "Mean absolute error relative to maximum value: 3.74798e-06\n",
      "Maximum difference relative to maximum value: 0.000109529\n",
      "Relative difference smaller 1e-5: False\n",
      "\n",
      "Layer: Conv2, Patterns of shape: (3, 3, 32, 64)\n",
      "Maximum of arrays: 5.38398 5.38398\n",
      "Mean absolute error relative to maximum value: 1.18543e-08\n",
      "Maximum difference relative to maximum value: 5.31395e-07\n",
      "Relative difference smaller 1e-5: True\n",
      "\n",
      "Layer: Dense1, Patterns of shape: (9216, 512)\n",
      "Maximum of arrays: 20.612 20.612\n",
      "Mean absolute error relative to maximum value: 1.19814e-10\n",
      "Maximum difference relative to maximum value: 1.38804e-06\n",
      "Relative difference smaller 1e-5: True\n",
      "\n",
      "Layer: Dense2, Patterns of shape: (512, 10)\n",
      "Maximum of arrays: 6.15189 6.1519\n",
      "Mean absolute error relative to maximum value: 1.66337e-08\n",
      "Maximum difference relative to maximum value: 1.16266e-06\n",
      "Relative difference smaller 1e-5: True\n",
      "\n"
     ]
    }
   ],
   "source": [
    "layer_names = ['Conv1', 'Conv2', 'Dense1', 'Dense2']\n",
    "\n",
    "if PATTERN_TYPE == 'relu':\n",
    "    patterns_pytorch = patterns_pytorch_aplus\n",
    "else:\n",
    "    patterns_pytorch = patterns_pytorch_linear\n",
    "    \n",
    "for i in range(4):\n",
    "    print('Layer: %s, Patterns of shape:' %layer_names[i], patterns_innvestigate[i].shape)\n",
    "    pattern_inn = patterns_innvestigate[i]\n",
    "    pattern_py = patterns_pytorch[i]\n",
    "    relative_errors(pattern_inn, pattern_py)\n",
    "    print('Relative difference smaller 1e-5:', all_close(pattern_inn, pattern_py))\n",
    "\n",
    "    print()"
   ]
  },
  {
   "cell_type": "markdown",
   "metadata": {},
   "source": [
    "# Print all differences"
   ]
  },
  {
   "cell_type": "code",
   "execution_count": 33,
   "metadata": {},
   "outputs": [
    {
     "data": {
      "text/html": [
       "<div>\n",
       "<style scoped>\n",
       "    .dataframe tbody tr th:only-of-type {\n",
       "        vertical-align: middle;\n",
       "    }\n",
       "\n",
       "    .dataframe tbody tr th {\n",
       "        vertical-align: top;\n",
       "    }\n",
       "\n",
       "    .dataframe thead tr th {\n",
       "        text-align: left;\n",
       "    }\n",
       "</style>\n",
       "<table border=\"1\" class=\"dataframe\">\n",
       "  <thead>\n",
       "    <tr>\n",
       "      <th></th>\n",
       "      <th></th>\n",
       "      <th colspan=\"4\" halign=\"left\">relu</th>\n",
       "    </tr>\n",
       "    <tr>\n",
       "      <th></th>\n",
       "      <th></th>\n",
       "      <th>Conv1</th>\n",
       "      <th>Conv2</th>\n",
       "      <th>Dense1</th>\n",
       "      <th>Dense2</th>\n",
       "    </tr>\n",
       "  </thead>\n",
       "  <tbody>\n",
       "    <tr>\n",
       "      <th rowspan=\"3\" valign=\"top\">Ex</th>\n",
       "      <th>MAE</th>\n",
       "      <td>0.000000e+00</td>\n",
       "      <td>0.000000e+00</td>\n",
       "      <td>1.583462e-08</td>\n",
       "      <td>4.269063e-07</td>\n",
       "    </tr>\n",
       "    <tr>\n",
       "      <th>MSE</th>\n",
       "      <td>0.000000e+00</td>\n",
       "      <td>0.000000e+00</td>\n",
       "      <td>1.476314e-15</td>\n",
       "      <td>5.440878e-13</td>\n",
       "    </tr>\n",
       "    <tr>\n",
       "      <th>MaxDiff</th>\n",
       "      <td>0.000000e+00</td>\n",
       "      <td>0.000000e+00</td>\n",
       "      <td>7.450581e-07</td>\n",
       "      <td>2.563000e-06</td>\n",
       "    </tr>\n",
       "    <tr>\n",
       "      <th rowspan=\"3\" valign=\"top\">Ey</th>\n",
       "      <th>MAE</th>\n",
       "      <td>0.000000e+00</td>\n",
       "      <td>0.000000e+00</td>\n",
       "      <td>0.000000e+00</td>\n",
       "      <td>0.000000e+00</td>\n",
       "    </tr>\n",
       "    <tr>\n",
       "      <th>MSE</th>\n",
       "      <td>0.000000e+00</td>\n",
       "      <td>0.000000e+00</td>\n",
       "      <td>0.000000e+00</td>\n",
       "      <td>0.000000e+00</td>\n",
       "    </tr>\n",
       "    <tr>\n",
       "      <th>MaxDiff</th>\n",
       "      <td>0.000000e+00</td>\n",
       "      <td>0.000000e+00</td>\n",
       "      <td>0.000000e+00</td>\n",
       "      <td>0.000000e+00</td>\n",
       "    </tr>\n",
       "    <tr>\n",
       "      <th rowspan=\"3\" valign=\"top\">Exy</th>\n",
       "      <th>MAE</th>\n",
       "      <td>0.000000e+00</td>\n",
       "      <td>0.000000e+00</td>\n",
       "      <td>4.408359e-09</td>\n",
       "      <td>6.024541e-07</td>\n",
       "    </tr>\n",
       "    <tr>\n",
       "      <th>MSE</th>\n",
       "      <td>0.000000e+00</td>\n",
       "      <td>0.000000e+00</td>\n",
       "      <td>1.210199e-16</td>\n",
       "      <td>3.143174e-12</td>\n",
       "    </tr>\n",
       "    <tr>\n",
       "      <th>MaxDiff</th>\n",
       "      <td>0.000000e+00</td>\n",
       "      <td>0.000000e+00</td>\n",
       "      <td>1.937151e-07</td>\n",
       "      <td>8.463860e-06</td>\n",
       "    </tr>\n",
       "    <tr>\n",
       "      <th rowspan=\"3\" valign=\"top\">Patterns</th>\n",
       "      <th>MAE</th>\n",
       "      <td>2.194634e-05</td>\n",
       "      <td>6.382333e-08</td>\n",
       "      <td>2.469599e-09</td>\n",
       "      <td>1.023289e-07</td>\n",
       "    </tr>\n",
       "    <tr>\n",
       "      <th>MSE</th>\n",
       "      <td>7.959753e-09</td>\n",
       "      <td>2.000368e-14</td>\n",
       "      <td>5.079395e-15</td>\n",
       "      <td>2.890459e-13</td>\n",
       "    </tr>\n",
       "    <tr>\n",
       "      <th>MaxDiff</th>\n",
       "      <td>6.413460e-04</td>\n",
       "      <td>2.861023e-06</td>\n",
       "      <td>2.861023e-05</td>\n",
       "      <td>7.152557e-06</td>\n",
       "    </tr>\n",
       "  </tbody>\n",
       "</table>\n",
       "</div>"
      ],
      "text/plain": [
       "                          relu                                          \n",
       "                         Conv1         Conv2        Dense1        Dense2\n",
       "Ex       MAE      0.000000e+00  0.000000e+00  1.583462e-08  4.269063e-07\n",
       "         MSE      0.000000e+00  0.000000e+00  1.476314e-15  5.440878e-13\n",
       "         MaxDiff  0.000000e+00  0.000000e+00  7.450581e-07  2.563000e-06\n",
       "Ey       MAE      0.000000e+00  0.000000e+00  0.000000e+00  0.000000e+00\n",
       "         MSE      0.000000e+00  0.000000e+00  0.000000e+00  0.000000e+00\n",
       "         MaxDiff  0.000000e+00  0.000000e+00  0.000000e+00  0.000000e+00\n",
       "Exy      MAE      0.000000e+00  0.000000e+00  4.408359e-09  6.024541e-07\n",
       "         MSE      0.000000e+00  0.000000e+00  1.210199e-16  3.143174e-12\n",
       "         MaxDiff  0.000000e+00  0.000000e+00  1.937151e-07  8.463860e-06\n",
       "Patterns MAE      2.194634e-05  6.382333e-08  2.469599e-09  1.023289e-07\n",
       "         MSE      7.959753e-09  2.000368e-14  5.079395e-15  2.890459e-13\n",
       "         MaxDiff  6.413460e-04  2.861023e-06  2.861023e-05  7.152557e-06"
      ]
     },
     "execution_count": 33,
     "metadata": {},
     "output_type": "execute_result"
    }
   ],
   "source": [
    "df"
   ]
  },
  {
   "cell_type": "code",
   "execution_count": 34,
   "metadata": {
    "collapsed": true
   },
   "outputs": [],
   "source": [
    "# df.to_csv('./dataframes/statsdiff.csv')"
   ]
  }
 ],
 "metadata": {
  "kernelspec": {
   "display_name": "Python 3",
   "language": "python",
   "name": "python3"
  },
  "language_info": {
   "codemirror_mode": {
    "name": "ipython",
    "version": 3
   },
   "file_extension": ".py",
   "mimetype": "text/x-python",
   "name": "python",
   "nbconvert_exporter": "python",
   "pygments_lexer": "ipython3",
   "version": "3.5.4"
  }
 },
 "nbformat": 4,
 "nbformat_minor": 2
}
