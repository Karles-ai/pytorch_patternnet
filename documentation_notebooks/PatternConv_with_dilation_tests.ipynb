{
 "cells": [
  {
   "cell_type": "code",
   "execution_count": 1,
   "metadata": {},
   "outputs": [
    {
     "data": {
      "text/html": [
       "<style>.container { width:100% !important; }</style>"
      ],
      "text/plain": [
       "<IPython.core.display.HTML object>"
      ]
     },
     "metadata": {},
     "output_type": "display_data"
    }
   ],
   "source": [
    "import torch\n",
    "import torch.nn as nn\n",
    "import numpy as np\n",
    "\n",
    "import sys\n",
    "sys.path.append('../')\n",
    "import layers\n",
    "import patterns\n",
    "\n",
    "from IPython.core.display import display, HTML\n",
    "display(HTML(\"<style>.container { width:100% !important; }</style>\"))"
   ]
  },
  {
   "cell_type": "markdown",
   "metadata": {},
   "source": [
    "# Create innvestigate network with dilation layer"
   ]
  },
  {
   "cell_type": "code",
   "execution_count": 2,
   "metadata": {},
   "outputs": [
    {
     "name": "stderr",
     "output_type": "stream",
     "text": [
      "Using TensorFlow backend.\n"
     ]
    }
   ],
   "source": [
    "import innvestigate\n",
    "import keras"
   ]
  },
  {
   "cell_type": "code",
   "execution_count": 3,
   "metadata": {
    "collapsed": true
   },
   "outputs": [],
   "source": [
    "inp_size = (7,7)\n",
    "ks = (3,3)\n",
    "ks_prod = np.product(ks)"
   ]
  },
  {
   "cell_type": "code",
   "execution_count": 4,
   "metadata": {
    "collapsed": true
   },
   "outputs": [],
   "source": [
    "inp_np = np.arange(-5,inp_size[0]*inp_size[1]-5,1).reshape(1,inp_size[0],inp_size[1],1).astype(float)\n",
    "inp_2 = np.random.rand(10,inp_size[0],inp_size[1],1)*5"
   ]
  },
  {
   "cell_type": "code",
   "execution_count": 5,
   "metadata": {
    "collapsed": true
   },
   "outputs": [],
   "source": [
    "# create one layer network with a convolutional layer with dilation > 1\n",
    "keras_conv = keras.models.Sequential([\n",
    "        keras.layers.Conv2D(filters=2, kernel_size=ks, \n",
    "                            dilation_rate=(2,2), input_shape=(inp_size[0],inp_size[1],1),\n",
    "                            activation=None, use_bias=False)])\n",
    "\n",
    "# created weights such that there are both positive and negative results\n",
    "kernel_weights = np.arange(-10,ks_prod*2-10,1).reshape(ks[0],ks[1],1,2)\n",
    "kernel_weights[:,:,0,0] -= 5\n",
    "keras_conv.set_weights([kernel_weights])"
   ]
  },
  {
   "cell_type": "code",
   "execution_count": 6,
   "metadata": {
    "collapsed": true
   },
   "outputs": [],
   "source": [
    "analyzer = innvestigate.create_analyzer('pattern.net', keras_conv)\n",
    "analyzer.fit(np.concatenate([inp_np,inp_2]))"
   ]
  },
  {
   "cell_type": "code",
   "execution_count": 7,
   "metadata": {
    "collapsed": true
   },
   "outputs": [],
   "source": [
    "patterns_keras = analyzer._patterns  # relu patterns are in patterns_keras[0]\n",
    "stats_keras = analyzer.computer._pattern_instances['relu'][0].stats_dict"
   ]
  },
  {
   "cell_type": "markdown",
   "metadata": {},
   "source": [
    "# Pytorch dilation layer"
   ]
  },
  {
   "cell_type": "code",
   "execution_count": 8,
   "metadata": {
    "collapsed": true
   },
   "outputs": [],
   "source": [
    "# check if kernel with zeros in between same result as with dilation=2 --> tested, not the same!\n",
    "# create pytorch input data\n",
    "inp_torch = torch.FloatTensor(inp_np).permute(0,3,1,2)\n",
    "inp_2_torch = torch.FloatTensor(inp_2).permute(0,3,1,2)\n",
    "\n",
    "# normal conv layer with dilation (2,2)\n",
    "conv_dil = nn.Conv2d(in_channels=1, out_channels=2, kernel_size=ks, dilation=2, bias=False)\n",
    "\n",
    "# use same weights as innvestigate layer\n",
    "k3 = torch.FloatTensor(kernel_weights).permute(3,2,0,1)\n",
    "conv_dil.weight.data = k3"
   ]
  },
  {
   "cell_type": "code",
   "execution_count": 9,
   "metadata": {
    "collapsed": true
   },
   "outputs": [],
   "source": [
    "# use this function to create a dilation kernel with zeros from the innvestigate kernel\n",
    "def dilation_kernel(kernel, dilation):\n",
    "    ks = kernel.shape\n",
    "    dil_kernel = torch.zeros(ks[0], ks[1], ks[2]+(dilation[0]-1)*(ks[2]-1), \n",
    "                             ks[3]+(dilation[1]-1)*(ks[3]-1))\n",
    "\n",
    "    \n",
    "    locs_x = np.arange(0,dil_kernel.shape[2], dilation[0]) # right dimension?\n",
    "    locs_y = np.arange(0,dil_kernel.shape[3], dilation[1])\n",
    "    inds_x, inds_y = np.meshgrid(locs_x, locs_y)\n",
    "    \n",
    "    dil_kernel[:,:,inds_x, inds_y] = kernel.permute(0,1,3,2)\n",
    "    \n",
    "    return dil_kernel\n",
    "\n",
    "\n",
    "# sets values in pattern to zero according to dilation pattern\n",
    "def dilation_pattern(pattern, dilation):\n",
    "    \n",
    "    locs_x = np.arange(0,pattern.shape[2], dilation[0]) # right dimesion?\n",
    "    locs_y = np.arange(0,pattern.shape[3], dilation[1])\n",
    "    inds_x, inds_y = np.meshgrid(locs_x, locs_y)\n",
    "    \n",
    "    mask = torch.ones(pattern.shape)\n",
    "    mask[:,:,inds_x, inds_y] = 0\n",
    "    \n",
    "    pattern[mask == 1] = 0\n",
    "    \n",
    "\n",
    "def dilation_mask(kernel_size, dilation):\n",
    "    \n",
    "    mask = torch.zeros(kernel_size[0], kernel_size[1], \n",
    "                       kernel_size[2]+(dilation[0]-1)*(kernel_size[2]-1),\n",
    "                       kernel_size[3]+(dilation[1]-1)*(kernel_size[3]-1))\n",
    "    \n",
    "    locs_x = np.arange(0, mask.shape[2], dilation[0])\n",
    "    locs_y = np.arange(0, mask.shape[3], dilation[1])\n",
    "    inds_x, inds_y = np.meshgrid(locs_x, locs_y)\n",
    "    \n",
    "    mask[:,:,inds_x, inds_y] = 1\n",
    "    \n",
    "    return mask"
   ]
  },
  {
   "cell_type": "code",
   "execution_count": 10,
   "metadata": {
    "collapsed": true
   },
   "outputs": [],
   "source": [
    "# create pattern layer\n",
    "pattern_layer_dil = layers.PatternConv2d(conv_dil)\n",
    "conv_out_dil = pattern_layer_dil(inp_torch)\n",
    "pattern_layer_dil.compute_statistics(inp_torch, conv_out_dil)\n",
    "pattern_layer_dil.compute_statistics(inp_2_torch, pattern_layer_dil(inp_2_torch))"
   ]
  },
  {
   "cell_type": "code",
   "execution_count": 11,
   "metadata": {},
   "outputs": [
    {
     "name": "stdout",
     "output_type": "stream",
     "text": [
      "Output of dil layer and its pattern layer the same: True\n"
     ]
    }
   ],
   "source": [
    "print('Output of dil layer and its pattern layer the same:', torch.equal(pattern_layer_dil(inp_2_torch), \n",
    "                                                                         conv_dil(inp_2_torch)))"
   ]
  },
  {
   "cell_type": "markdown",
   "metadata": {},
   "source": [
    "## Compare pytorch and innvestigate prediction"
   ]
  },
  {
   "cell_type": "code",
   "execution_count": 12,
   "metadata": {},
   "outputs": [
    {
     "name": "stdout",
     "output_type": "stream",
     "text": [
      "torch.Size([10, 2, 3, 3]) torch.Size([10, 2, 3, 3])\n",
      "False\n",
      "Maximum difference: tensor(1.5259e-05)\n"
     ]
    }
   ],
   "source": [
    "out_dil = pattern_layer_dil(inp_2_torch)\n",
    "out_inn = keras_conv.predict(inp_2)\n",
    "\n",
    "print(out_dil.shape, torch.FloatTensor(out_inn).permute(0,3,1,2).shape)\n",
    "print(torch.equal(out_dil, torch.FloatTensor(out_inn).permute(0,3,1,2)))\n",
    "if not torch.equal(out_dil, torch.FloatTensor(out_inn).permute(0,3,1,2)):\n",
    "    print('Maximum difference:', \n",
    "           torch.max(out_dil - torch.FloatTensor(out_inn).permute(0,3,1,2)).detach())"
   ]
  },
  {
   "cell_type": "markdown",
   "metadata": {},
   "source": [
    "## Compare pytorch and innvestigate statistics"
   ]
  },
  {
   "cell_type": "code",
   "execution_count": 13,
   "metadata": {},
   "outputs": [
    {
     "name": "stdout",
     "output_type": "stream",
     "text": [
      "cnt\n",
      "Innvestigate and standard dilation layer the same: True\n",
      "\n",
      "e_y\n",
      "Innvestigate and standard dilation layer the same: False\n",
      "Maximum difference: tensor(0.)\n",
      "\n",
      "e_x\n",
      "Innvestigate and standard dilation layer the same: False\n",
      "Maximum difference: tensor(1.1921e-07)\n",
      "\n",
      "e_xy\n",
      "Innvestigate and standard dilation layer the same: False\n",
      "Maximum difference: tensor(0.)\n",
      "\n"
     ]
    }
   ],
   "source": [
    "keras_keys = ['cnt_x', 'e_y', 'e_x', 'e_xy']\n",
    "torch_keys = ['cnt', 'e_y', 'e_x', 'e_xy']\n",
    "\n",
    "k3_inds = torch.tensor([0,2,4,10,12,14,20,22,24], dtype=torch.long)\n",
    "\n",
    "for i in range(len(keras_keys)):\n",
    "    print(torch_keys[i])\n",
    "    \n",
    "    if torch_keys[i] in ['e_x', 'e_xy']:\n",
    "        stat_inn = torch.FloatTensor(stats_keras[keras_keys[i]])\n",
    "        stat_dil = pattern_layer_dil.statistics['positive'][torch_keys[i]].detach().permute(1,0)\n",
    "        print('Innvestigate and standard dilation layer the same:', torch.equal(stat_inn, stat_dil))\n",
    "        if not torch.equal(stat_inn, stat_dil):\n",
    "            print('Maximum difference:', torch.max(stat_inn - stat_dil))\n",
    "            \n",
    "    elif torch_keys[i] == 'e_y':\n",
    "        stat_inn = torch.FloatTensor(stats_keras[keras_keys[i]])\n",
    "        stat_dil = pattern_layer_dil.statistics['positive'][torch_keys[i]].detach()[0]\n",
    "\n",
    "        print('Innvestigate and standard dilation layer the same:', torch.equal(stat_inn,stat_dil))\n",
    "        if not torch.equal(stat_inn,stat_dil):\n",
    "            print('Maximum difference:', torch.max(stat_inn - stat_dil))\n",
    "            \n",
    "    else:\n",
    "        stat_inn = torch.FloatTensor(stats_keras[keras_keys[i]])\n",
    "        stat_dil = pattern_layer_dil.statistics['positive'][torch_keys[i]].detach()\n",
    "\n",
    "        print('Innvestigate and standard dilation layer the same:',torch.equal(stat_inn, stat_dil))\n",
    "        if not torch.equal(stat_inn, stat_dil):\n",
    "            print('Maximum difference:', torch.max(stat_inn - stat_dil))\n",
    "    print()\n"
   ]
  },
  {
   "cell_type": "markdown",
   "metadata": {},
   "source": [
    "## Compare patterns"
   ]
  },
  {
   "cell_type": "code",
   "execution_count": 14,
   "metadata": {
    "collapsed": true
   },
   "outputs": [],
   "source": [
    "pattern_layer_dil.compute_patterns()\n",
    "pattern_layer_dil.set_patterns()"
   ]
  },
  {
   "cell_type": "code",
   "execution_count": 15,
   "metadata": {},
   "outputs": [
    {
     "name": "stdout",
     "output_type": "stream",
     "text": [
      "Patterns innvestigate and standard dilation layer the same: False\n",
      "Maximum difference: tensor(1.4901e-08)\n"
     ]
    }
   ],
   "source": [
    "# first convert innvestigate pattern to pytorch tensor, then permute it\n",
    "pattern_inn = torch.FloatTensor(patterns_keras[0]).permute(2,3,0,1)\n",
    "\n",
    "def revert_tensor(tensor, axis=0):\n",
    "    idx = [i for i in range(tensor.size(axis) - 1, -1, -1)]\n",
    "    idx = torch.LongTensor(idx)\n",
    "    return tensor.index_select(axis, idx)\n",
    "\n",
    "pattern_inn = revert_tensor(revert_tensor(pattern_inn,2),3)\n",
    "\n",
    "print('Patterns innvestigate and standard dilation layer the same:', torch.equal(pattern_inn,\n",
    "                                                                                 pattern_layer_dil.patterns['A_plus']))\n",
    "if not torch.equal(pattern_inn, pattern_layer_dil.patterns['A_plus']):\n",
    "    print('Maximum difference:', torch.max(torch.abs(pattern_inn - pattern_layer_dil.patterns['A_plus'].detach())))"
   ]
  },
  {
   "cell_type": "markdown",
   "metadata": {},
   "source": [
    "## Compare signal"
   ]
  },
  {
   "cell_type": "code",
   "execution_count": 16,
   "metadata": {},
   "outputs": [
    {
     "name": "stdout",
     "output_type": "stream",
     "text": [
      "Signal innvestigate and standard dilation layer the same: False\n",
      "\n",
      "\n",
      "\n",
      "tensor([[[[0.0229, 0.0225, 0.0668, 0.0439, 0.1100, 0.0656, 0.0642],\n",
      "          [0.0196, 0.0191, 0.0568, 0.0373, 0.0936, 0.0558, 0.0544],\n",
      "          [0.1927, 0.1885, 0.4149, 0.2254, 0.4885, 0.2621, 0.2561],\n",
      "          [0.1506, 0.1469, 0.3129, 0.1655, 0.3497, 0.1838, 0.1791],\n",
      "          [0.4551, 0.4445, 0.9267, 0.4813, 1.0000, 0.5178, 0.5053],\n",
      "          [0.2819, 0.2750, 0.5687, 0.2932, 0.6052, 0.3115, 0.3036],\n",
      "          [0.2334, 0.2265, 0.4684, 0.2415, 0.4985, 0.2565, 0.2487]]]])\n"
     ]
    }
   ],
   "source": [
    "signal_inn = torch.FloatTensor(analyzer.analyze(inp_np).transpose(0,3,1,2))\n",
    "signal_dil = pattern_layer_dil.backward(conv_out_dil)\n",
    "\n",
    "print('Signal innvestigate and standard dilation layer the same:', torch.equal(signal_inn, signal_dil))\n",
    "# if not torch.equal(signal_inn, signal_dil):\n",
    "#     print('Maximum difference:', torch.max(signal_inn - signal_dil.detach()))    \n",
    "\n",
    "print()\n",
    "print()\n",
    "# print(signal_inn)\n",
    "print()\n",
    "print(signal_dil.detach())"
   ]
  },
  {
   "cell_type": "code",
   "execution_count": 20,
   "metadata": {
    "scrolled": false
   },
   "outputs": [
    {
     "name": "stdout",
     "output_type": "stream",
     "text": [
      "INNvestigate\n",
      "\n",
      "Input for backward pass\n",
      "[[ -165.  -228.  -291.]\n",
      " [ -606.  -669.  -732.]\n",
      " [-1047. -1110. -1173.]]\n",
      "[[ 429.  420.  411.]\n",
      " [ 366.  357.  348.]\n",
      " [ 303.  294.  285.]]\n",
      "(1, 3, 3, 2)\n",
      "Patterns\n",
      "[[[[ 0.          0.          0.        ]\n",
      "   [ 0.          0.          0.        ]\n",
      "   [ 0.          0.          0.        ]]\n",
      "\n",
      "  [[ 0.00571974  0.01117426  0.01671792]\n",
      "   [ 0.04401109  0.04959474  0.05506112]\n",
      "   [ 0.08239748  0.0878601   0.0933373 ]]]]\n",
      "(3, 3, 1, 2)\n",
      "Output of backward pass\n",
      "[[ 0.06128033  0.          0.1197191   0.          0.17911293  0.          0.        ]\n",
      " [ 0.          0.          0.          0.          0.          0.          0.        ]\n",
      " [ 0.47152737  0.          0.5313496   0.          0.58991551  0.          0.        ]\n",
      " [ 0.          0.          0.          0.          0.          0.          0.        ]\n",
      " [ 0.88279259  0.          0.94131821  0.          1.          0.          0.        ]\n",
      " [ 0.          0.          0.          0.          0.          0.          0.        ]\n",
      " [ 0.          0.          0.          0.          0.          0.          0.        ]]\n",
      "(1, 7, 7, 1)\n"
     ]
    }
   ],
   "source": [
    "print('INNvestigate')\n",
    "print()\n",
    "print('Input for backward pass')\n",
    "print(keras_conv.predict(inp_np)[0,:,:,0])\n",
    "print(keras_conv.predict(inp_np)[0,:,:,1])\n",
    "print(keras_conv.predict(inp_np).shape)\n",
    "print('Patterns')\n",
    "print(patterns_keras[0].transpose(2,3,0,1))#[:,:,0,1])\n",
    "print(patterns_keras[0].shape)\n",
    "print('Output of backward pass')\n",
    "print(signal_inn[0,0].numpy())\n",
    "print(analyzer.analyze(inp_np).shape)"
   ]
  },
  {
   "cell_type": "code",
   "execution_count": 18,
   "metadata": {
    "collapsed": true
   },
   "outputs": [],
   "source": [
    "# pattern_layer_dil.backward_layer.weight"
   ]
  },
  {
   "cell_type": "code",
   "execution_count": 19,
   "metadata": {},
   "outputs": [
    {
     "name": "stdout",
     "output_type": "stream",
     "text": [
      "torch.Size([1, 1, 7, 7])\n",
      "tensor([[[[0.0229, 0.0225, 0.0668, 0.0439, 0.1100, 0.0656, 0.0642],\n",
      "          [0.0196, 0.0191, 0.0568, 0.0373, 0.0936, 0.0558, 0.0544],\n",
      "          [0.1927, 0.1885, 0.4149, 0.2254, 0.4885, 0.2621, 0.2561],\n",
      "          [0.1506, 0.1469, 0.3129, 0.1655, 0.3497, 0.1838, 0.1791],\n",
      "          [0.4551, 0.4445, 0.9267, 0.4813, 1.0000, 0.5178, 0.5053],\n",
      "          [0.2819, 0.2750, 0.5687, 0.2932, 0.6052, 0.3115, 0.3036],\n",
      "          [0.2334, 0.2265, 0.4684, 0.2415, 0.4985, 0.2565, 0.2487]]]])\n",
      "\n",
      "torch.Size([3, 3])\n",
      "tensor([[0.0613, 0.1197, 0.1791],\n",
      "        [0.4715, 0.5313, 0.5899],\n",
      "        [0.8828, 0.9413, 1.0000]], grad_fn=<IndexSelectBackward>)\n"
     ]
    }
   ],
   "source": [
    "conv_test = nn.Conv2d(2,1, [3,3],padding=(4,4),dilation=(2,2), stride=1,bias=False) # (6,6) and (3,3)\n",
    "conv_test.weight.data = pattern_layer_dil.patterns['A_plus']\n",
    "out = conv_test(conv_out_dil).detach()\n",
    "print(out.shape)\n",
    "out /= torch.max(torch.abs(out))\n",
    "print(out)\n",
    "# print(pattern_layer_dil.patterns['A_plus'].shape)\n",
    "# print(conv_out_dil.shape)\n",
    "print()\n",
    "back_res_0 = conv_out_dil[0,0,0,0]*pattern_layer_dil.patterns['A_plus'][0,0]\n",
    "back_res_1 = conv_out_dil[0,1,0,0]*pattern_layer_dil.patterns['A_plus'][0,1]\n",
    "sum_back_res = back_res_0 + back_res_1\n",
    "# print(back_res_0)\n",
    "# print()\n",
    "# print(back_res_1)\n",
    "print(sum_back_res.shape)\n",
    "# print(back_res_0 + back_res_1)\n",
    "# print()\n",
    "print(revert_tensor(revert_tensor(sum_back_res / torch.max(torch.abs(sum_back_res)),0),1))"
   ]
  }
 ],
 "metadata": {
  "kernelspec": {
   "display_name": "Python 3",
   "language": "python",
   "name": "python3"
  },
  "language_info": {
   "codemirror_mode": {
    "name": "ipython",
    "version": 3
   },
   "file_extension": ".py",
   "mimetype": "text/x-python",
   "name": "python",
   "nbconvert_exporter": "python",
   "pygments_lexer": "ipython3",
   "version": "3.5.4"
  }
 },
 "nbformat": 4,
 "nbformat_minor": 2
}
